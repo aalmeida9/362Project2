{
 "cells": [
  {
   "cell_type": "code",
   "execution_count": 11,
   "metadata": {},
   "outputs": [],
   "source": [
    "#Import packages \n",
    "\n",
    "import numpy as np\n",
    "import pandas as pd\n",
    "import matplotlib.pyplot as plt\n",
    "import matplotlib.patches as mpatches\n",
    "import statistics\n",
    "import math\n",
    "import random\n",
    "from scipy import stats\n",
    "from statsmodels.graphics.mosaicplot import mosaic"
   ]
  },
  {
   "cell_type": "code",
   "execution_count": 12,
   "metadata": {},
   "outputs": [],
   "source": [
    "#Import Dataset\n",
    "\n",
    "df = pd.read_csv(\"Case Study_ Study Habits.csv\", sep=\",\")"
   ]
  },
  {
   "cell_type": "code",
   "execution_count": 13,
   "metadata": {},
   "outputs": [
    {
     "data": {
      "text/html": [
       "<div>\n",
       "<style scoped>\n",
       "    .dataframe tbody tr th:only-of-type {\n",
       "        vertical-align: middle;\n",
       "    }\n",
       "\n",
       "    .dataframe tbody tr th {\n",
       "        vertical-align: top;\n",
       "    }\n",
       "\n",
       "    .dataframe thead th {\n",
       "        text-align: right;\n",
       "    }\n",
       "</style>\n",
       "<table border=\"1\" class=\"dataframe\">\n",
       "  <thead>\n",
       "    <tr style=\"text-align: right;\">\n",
       "      <th></th>\n",
       "      <th>Timestamp</th>\n",
       "      <th>Name</th>\n",
       "      <th>Year</th>\n",
       "      <th>Weather</th>\n",
       "      <th>Room</th>\n",
       "      <th>Focus</th>\n",
       "      <th>Work</th>\n",
       "      <th>Workspace Difference</th>\n",
       "      <th>Workspace Preference</th>\n",
       "      <th>Motivation</th>\n",
       "      <th>Type</th>\n",
       "      <th>StudyTime</th>\n",
       "      <th>Sleep</th>\n",
       "      <th>Screentime</th>\n",
       "      <th>Physical Activity</th>\n",
       "      <th>Are there any extra comments or concerns you have about online courses?</th>\n",
       "    </tr>\n",
       "  </thead>\n",
       "  <tbody>\n",
       "    <tr>\n",
       "      <td>0</td>\n",
       "      <td>2020/04/08 1:18:07 PM AST</td>\n",
       "      <td>Melanie T</td>\n",
       "      <td>NaN</td>\n",
       "      <td>Rainy</td>\n",
       "      <td>dining room</td>\n",
       "      <td>3</td>\n",
       "      <td>More than when I'm at school</td>\n",
       "      <td>very different</td>\n",
       "      <td>Better</td>\n",
       "      <td>lower than average motivation</td>\n",
       "      <td>Homework</td>\n",
       "      <td>4</td>\n",
       "      <td>4</td>\n",
       "      <td>8</td>\n",
       "      <td>2</td>\n",
       "      <td>NaN</td>\n",
       "    </tr>\n",
       "    <tr>\n",
       "      <td>1</td>\n",
       "      <td>2020/04/08 5:51:39 PM AST</td>\n",
       "      <td>Bryan A</td>\n",
       "      <td>Junior</td>\n",
       "      <td>Partly Cloudy</td>\n",
       "      <td>bedroom</td>\n",
       "      <td>3</td>\n",
       "      <td>The same amount that I would do at school</td>\n",
       "      <td>very different</td>\n",
       "      <td>Better</td>\n",
       "      <td>3</td>\n",
       "      <td>Practice Questions;Watching Live or Prerecorde...</td>\n",
       "      <td>3</td>\n",
       "      <td>9</td>\n",
       "      <td>&gt;= 10</td>\n",
       "      <td>&lt;= 1</td>\n",
       "      <td>NaN</td>\n",
       "    </tr>\n",
       "    <tr>\n",
       "      <td>2</td>\n",
       "      <td>2020/04/09 11:23:47 AM AST</td>\n",
       "      <td>Kameron, J</td>\n",
       "      <td>Junior</td>\n",
       "      <td>Overcast</td>\n",
       "      <td>bedroom</td>\n",
       "      <td>3</td>\n",
       "      <td>less than when I'm at school</td>\n",
       "      <td>somewhat different</td>\n",
       "      <td>Better</td>\n",
       "      <td>4</td>\n",
       "      <td>Homework</td>\n",
       "      <td>2</td>\n",
       "      <td>7</td>\n",
       "      <td>&gt;= 10</td>\n",
       "      <td>&lt;= 1</td>\n",
       "      <td>NaN</td>\n",
       "    </tr>\n",
       "    <tr>\n",
       "      <td>3</td>\n",
       "      <td>2020/04/09 12:14:53 PM AST</td>\n",
       "      <td>John D</td>\n",
       "      <td>freshman</td>\n",
       "      <td>Rainy</td>\n",
       "      <td>office</td>\n",
       "      <td>3</td>\n",
       "      <td>less than when I'm at school</td>\n",
       "      <td>very different</td>\n",
       "      <td>Better</td>\n",
       "      <td>1</td>\n",
       "      <td>Homework</td>\n",
       "      <td>2</td>\n",
       "      <td>9</td>\n",
       "      <td>10</td>\n",
       "      <td>2</td>\n",
       "      <td>NaN</td>\n",
       "    </tr>\n",
       "    <tr>\n",
       "      <td>4</td>\n",
       "      <td>2020/04/09 12:37:58 PM AST</td>\n",
       "      <td>Jacqueline Broderick</td>\n",
       "      <td>sophomore</td>\n",
       "      <td>Rainy</td>\n",
       "      <td>bedroom</td>\n",
       "      <td>4</td>\n",
       "      <td>The same amount that I would do at school</td>\n",
       "      <td>somewhat different</td>\n",
       "      <td>Better</td>\n",
       "      <td>3</td>\n",
       "      <td>Read Slides;Group Work;Homework;Watching Live ...</td>\n",
       "      <td>3</td>\n",
       "      <td>9</td>\n",
       "      <td>&lt;= 4</td>\n",
       "      <td>2</td>\n",
       "      <td>NaN</td>\n",
       "    </tr>\n",
       "  </tbody>\n",
       "</table>\n",
       "</div>"
      ],
      "text/plain": [
       "                    Timestamp                  Name       Year        Weather  \\\n",
       "0   2020/04/08 1:18:07 PM AST             Melanie T        NaN          Rainy   \n",
       "1   2020/04/08 5:51:39 PM AST               Bryan A     Junior  Partly Cloudy   \n",
       "2  2020/04/09 11:23:47 AM AST            Kameron, J     Junior       Overcast   \n",
       "3  2020/04/09 12:14:53 PM AST                John D   freshman          Rainy   \n",
       "4  2020/04/09 12:37:58 PM AST  Jacqueline Broderick  sophomore          Rainy   \n",
       "\n",
       "          Room  Focus                                       Work  \\\n",
       "0  dining room      3               More than when I'm at school   \n",
       "1      bedroom      3  The same amount that I would do at school   \n",
       "2      bedroom      3               less than when I'm at school   \n",
       "3       office      3               less than when I'm at school   \n",
       "4      bedroom      4  The same amount that I would do at school   \n",
       "\n",
       "  Workspace Difference Workspace Preference                     Motivation  \\\n",
       "0       very different               Better  lower than average motivation   \n",
       "1       very different               Better                              3   \n",
       "2   somewhat different               Better                              4   \n",
       "3       very different               Better                              1   \n",
       "4   somewhat different               Better                              3   \n",
       "\n",
       "                                                Type  StudyTime  Sleep  \\\n",
       "0                                           Homework          4      4   \n",
       "1  Practice Questions;Watching Live or Prerecorde...          3      9   \n",
       "2                                           Homework          2      7   \n",
       "3                                           Homework          2      9   \n",
       "4  Read Slides;Group Work;Homework;Watching Live ...          3      9   \n",
       "\n",
       "  Screentime Physical Activity  \\\n",
       "0          8                 2   \n",
       "1      >= 10              <= 1   \n",
       "2      >= 10              <= 1   \n",
       "3         10                 2   \n",
       "4       <= 4                 2   \n",
       "\n",
       "  Are there any extra comments or concerns you have about online courses?  \n",
       "0                                                NaN                       \n",
       "1                                                NaN                       \n",
       "2                                                NaN                       \n",
       "3                                                NaN                       \n",
       "4                                                NaN                       "
      ]
     },
     "execution_count": 13,
     "metadata": {},
     "output_type": "execute_result"
    }
   ],
   "source": [
    "#Data Cleaning\n",
    "#how many hours is StudyTime not Time\n",
    "df.rename(columns = {'What is your name? (first name, last initial)':'Name', \n",
    "                     'What is your year?':'Year',\n",
    "                    'How was the weather today?':'Weather', \n",
    "                     'What room did you study in?':'Room',\n",
    "                    'How focused were you while studying today?':'Focus', \n",
    "                     'How long did you do school work today?':'Work',\n",
    "                    'How different was your work space compared to school':'Workspace Difference',\n",
    "                    'Would you say your work space at home is better or worse than your work space at school?':'Workspace Preference',\n",
    "                    'What is your motivation for school work today?':'Motivation',\n",
    "                     'Type of studying you did':'Type',\n",
    "                    'How many hours did you spend studying today':'StudyTime',\n",
    "                     'How many hours of sleep did you get last night':'Sleep',\n",
    "                    'How many hours of screen time did you have today?':'Screentime',\n",
    "                    'How many hours of physical activity did you do today?':'Physical Activity',}, inplace = True)\n",
    "\n",
    "df['Name'].replace({'Option 1':'Melanie T'}, inplace=True)\n",
    "df['Name'].replace({'Aayush Patel':'Aayush P'}, inplace=True)\n",
    "df.head()"
   ]
  },
  {
   "cell_type": "code",
   "execution_count": 14,
   "metadata": {},
   "outputs": [
    {
     "data": {
      "text/plain": [
       "Robert L                9\n",
       "Josiah A                5\n",
       "Bryan A                 4\n",
       "Brody H.                3\n",
       "Brian R                 2\n",
       "Devin C                 2\n",
       "Adrien                  2\n",
       "Dylan D                 2\n",
       "Kameron, J              2\n",
       "Aayush P                2\n",
       "MT                      1\n",
       "Robert L.               1\n",
       "Kyle C                  1\n",
       "Jacqueline Broderick    1\n",
       "Adrien A                1\n",
       "Dflo                    1\n",
       "Devin Cannistraro       1\n",
       "John D                  1\n",
       "Melanie T               1\n",
       "Ben A                   1\n",
       "Name: Name, dtype: int64"
      ]
     },
     "execution_count": 14,
     "metadata": {},
     "output_type": "execute_result"
    }
   ],
   "source": [
    "df.Name.value_counts()"
   ]
  },
  {
   "cell_type": "code",
   "execution_count": 15,
   "metadata": {},
   "outputs": [
    {
     "data": {
      "text/plain": [
       "20"
      ]
     },
     "execution_count": 15,
     "metadata": {},
     "output_type": "execute_result"
    }
   ],
   "source": [
    "#20 People took the survey, but only half took it more than once\n",
    "df.Name.nunique()"
   ]
  },
  {
   "cell_type": "code",
   "execution_count": 16,
   "metadata": {},
   "outputs": [
    {
     "name": "stdout",
     "output_type": "stream",
     "text": [
      "no graph\n",
      "no graph\n",
      "no graph\n",
      "no graph\n",
      "no graph\n",
      "no graph\n",
      "no graph\n",
      "no graph\n",
      "no graph\n",
      "no graph\n",
      "no graph\n",
      "no graph\n",
      "no graph\n"
     ]
    },
    {
     "data": {
      "image/png": "[encoded data removed]",
      "text/plain": [
       "<Figure size 432x288 with 1 Axes>"
      ]
     },
     "metadata": {
      "needs_background": "light"
     },
     "output_type": "display_data"
    },
    {
     "data": {
      "image/png": "[encoded data removed]",
      "text/plain": [
       "<Figure size 432x288 with 1 Axes>"
      ]
     },
     "metadata": {
      "needs_background": "light"
     },
     "output_type": "display_data"
    },
    {
     "data": {
      "image/png": "[encoded data removed]",
      "text/plain": [
       "<Figure size 432x288 with 1 Axes>"
      ]
     },
     "metadata": {
      "needs_background": "light"
     },
     "output_type": "display_data"
    },
    {
     "data": {
      "image/png": "[encoded data removed]",
      "text/plain": [
       "<Figure size 432x288 with 1 Axes>"
      ]
     },
     "metadata": {
      "needs_background": "light"
     },
     "output_type": "display_data"
    },
    {
     "data": {
      "image/png": "[encoded data removed]",
      "text/plain": [
       "<Figure size 432x288 with 1 Axes>"
      ]
     },
     "metadata": {
      "needs_background": "light"
     },
     "output_type": "display_data"
    },
    {
     "data": {
      "image/png": "[encoded data removed]",
      "text/plain": [
       "<Figure size 432x288 with 1 Axes>"
      ]
     },
     "metadata": {
      "needs_background": "light"
     },
     "output_type": "display_data"
    }
   ],
   "source": [
    "#box and histogram plots for all possible questions\n",
    "#attempt to make the chart at first, if you can't, then close the figure \n",
    "for column in df:\n",
    "    try:\n",
    "        plt.figure()\n",
    "        df.boxplot([column], showmeans = True)\n",
    "        df.hist([column], align = 'left', edgecolor = 'black', color = 'cyan')\n",
    "    except Exception:\n",
    "        plt.close()\n",
    "        print('no graph')\n"
   ]
  },
  {
   "cell_type": "code",
   "execution_count": 17,
   "metadata": {},
   "outputs": [
    {
     "data": {
      "text/plain": [
       "<matplotlib.axes._subplots.AxesSubplot at 0x2737494fb88>"
      ]
     },
     "execution_count": 17,
     "metadata": {},
     "output_type": "execute_result"
    },
    {
     "data": {
      "image/png": "[encoded data removed]",
      "text/plain": [
       "<Figure size 432x288 with 1 Axes>"
      ]
     },
     "metadata": {
      "needs_background": "light"
     },
     "output_type": "display_data"
    }
   ],
   "source": [
    "#bargraph (y) Focus v (x) sleep hours\n",
    "roomgb = df.groupby('Sleep')['Focus'].mean()\n",
    "roomgb.plot.bar(x = 'Name', y = 'Focus', title = \"Hours Of Sleep vs Focus\")\n",
    "#print(df.groupby('Room'))\n"
   ]
  },
  {
   "cell_type": "code",
   "execution_count": 19,
   "metadata": {},
   "outputs": [
    {
     "data": {
      "text/plain": [
       "[None, None, None, None, None, None]"
      ]
     },
     "execution_count": 19,
     "metadata": {},
     "output_type": "execute_result"
    },
    {
     "data": {
      "image/png": "[encoded data removed]",
      "text/plain": [
       "<Figure size 432x288 with 1 Axes>"
      ]
     },
     "metadata": {},
     "output_type": "display_data"
    }
   ],
   "source": [
    "#Pie chart for \"How long did you do school work today?\"\n",
    "fig1, ax1 = plt.subplots()\n",
    "labels = df['Work'].value_counts().index.tolist()\n",
    "\n",
    "wedges, texts, autotexts = ax1.pie(df['Work'].value_counts(), autopct='%1.1f%%', wedgeprops={'edgecolor': 'black'}, textprops=dict(color='w'))\n",
    "ax1.set_title('Study Time Compared To At School')\n",
    "\n",
    "ax1.legend(loc=\"center right\", bbox_to_anchor=(1, .5, 1, .8), labels= labels)\n",
    "plt.setp(autotexts, size=12, weight=\"bold\")\n"
   ]
  },
  {
   "cell_type": "code",
   "execution_count": null,
   "metadata": {},
   "outputs": [],
   "source": []
  },
  {
   "cell_type": "code",
   "execution_count": null,
   "metadata": {},
   "outputs": [],
   "source": []
  }
 ],
 "metadata": {
  "kernelspec": {
   "display_name": "Python 3",
   "language": "python",
   "name": "python3"
  },
  "language_info": {
   "codemirror_mode": {
    "name": "ipython",
    "version": 3
   },
   "file_extension": ".py",
   "mimetype": "text/x-python",
   "name": "python",
   "nbconvert_exporter": "python",
   "pygments_lexer": "ipython3",
   "version": "3.7.4"
  }
 },
 "nbformat": 4,
 "nbformat_minor": 4
}
