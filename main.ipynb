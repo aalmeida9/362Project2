{
 "cells": [
  {
   "cell_type": "code",
   "execution_count": 1,
   "metadata": {},
   "outputs": [],
   "source": [
    "#Import packages \n",
    "\n",
    "import numpy as np\n",
    "import pandas as pd\n",
    "import matplotlib.pyplot as plt\n",
    "import matplotlib.patches as mpatches\n",
    "import statistics\n",
    "import math\n",
    "import random\n",
    "from scipy import stats\n",
    "from statsmodels.graphics.mosaicplot import mosaic"
   ]
  },
  {
   "cell_type": "code",
   "execution_count": 2,
   "metadata": {},
   "outputs": [],
   "source": [
    "#Import Dataset\n",
    "\n",
    "df = pd.read_csv(\"Case Study_ Study Habits.csv\", sep=\",\")"
   ]
  },
  {
   "cell_type": "code",
   "execution_count": 5,
   "metadata": {},
   "outputs": [
    {
     "data": {
      "text/html": [
       "<div>\n",
       "<style scoped>\n",
       "    .dataframe tbody tr th:only-of-type {\n",
       "        vertical-align: middle;\n",
       "    }\n",
       "\n",
       "    .dataframe tbody tr th {\n",
       "        vertical-align: top;\n",
       "    }\n",
       "\n",
       "    .dataframe thead th {\n",
       "        text-align: right;\n",
       "    }\n",
       "</style>\n",
       "<table border=\"1\" class=\"dataframe\">\n",
       "  <thead>\n",
       "    <tr style=\"text-align: right;\">\n",
       "      <th></th>\n",
       "      <th>Timestamp</th>\n",
       "      <th>Name</th>\n",
       "      <th>Year</th>\n",
       "      <th>Weather</th>\n",
       "      <th>Room</th>\n",
       "      <th>Focus</th>\n",
       "      <th>Work</th>\n",
       "      <th>Workspace Difference</th>\n",
       "      <th>Workspace Preference</th>\n",
       "      <th>Motivation</th>\n",
       "      <th>Type</th>\n",
       "      <th>Time</th>\n",
       "      <th>Sleep</th>\n",
       "      <th>Screentime</th>\n",
       "      <th>Physical Activity</th>\n",
       "    </tr>\n",
       "  </thead>\n",
       "  <tbody>\n",
       "    <tr>\n",
       "      <td>0</td>\n",
       "      <td>2020/04/08 1:18:07 PM AST</td>\n",
       "      <td>Option 1</td>\n",
       "      <td>NaN</td>\n",
       "      <td>Rainy</td>\n",
       "      <td>dining room</td>\n",
       "      <td>3</td>\n",
       "      <td>More than when I'm at school</td>\n",
       "      <td>very different</td>\n",
       "      <td>Better</td>\n",
       "      <td>lower than average motivation</td>\n",
       "      <td>Homework</td>\n",
       "      <td>4</td>\n",
       "      <td>4</td>\n",
       "      <td>8</td>\n",
       "      <td>2</td>\n",
       "    </tr>\n",
       "  </tbody>\n",
       "</table>\n",
       "</div>"
      ],
      "text/plain": [
       "                   Timestamp      Name Year Weather         Room  Focus  \\\n",
       "0  2020/04/08 1:18:07 PM AST  Option 1  NaN   Rainy  dining room      3   \n",
       "\n",
       "                           Work Workspace Difference Workspace Preference  \\\n",
       "0  More than when I'm at school       very different               Better   \n",
       "\n",
       "                      Motivation      Type  Time  Sleep Screentime  \\\n",
       "0  lower than average motivation  Homework     4      4          8   \n",
       "\n",
       "  Physical Activity  \n",
       "0                 2  "
      ]
     },
     "execution_count": 5,
     "metadata": {},
     "output_type": "execute_result"
    }
   ],
   "source": [
    "#Data Cleaning\n",
    "df.rename(columns = {'What is your name? (first name, last initial)':'Name', 'What is your year?':'Year',\n",
    "                    'How was the weather today?':'Weather', 'What room did you study in?':'Room',\n",
    "                    'How focused were you while studying today?':'Focus', 'How long did you do school work today?':'Work',\n",
    "                    'How different was your work space compared to school':'Workspace Difference',\n",
    "                    'Would you say your work space at home is better or worse than your work space at school?':'Workspace Preference',\n",
    "                    'What is your motivation for school work today?':'Motivation','Type of studying you did':'Type',\n",
    "                    'How many hours did you spend studying today':'Time','How many hours of sleep did you get last night':'Sleep',\n",
    "                    'How many hours of screen time did you have today?':'Screentime',\n",
    "                    'How many hours of physical activity did you do today?':'Physical Activity',}, inplace = True)\n",
    "\n",
    "df.head(1)"
   ]
  }
 ],
 "metadata": {
  "kernelspec": {
   "display_name": "Python 3",
   "language": "python",
   "name": "python3"
  },
  "language_info": {
   "codemirror_mode": {
    "name": "ipython",
    "version": 3
   },
   "file_extension": ".py",
   "mimetype": "text/x-python",
   "name": "python",
   "nbconvert_exporter": "python",
   "pygments_lexer": "ipython3",
   "version": "3.7.4"
  }
 },
 "nbformat": 4,
 "nbformat_minor": 2
}
